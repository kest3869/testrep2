{
  "nbformat": 4,
  "nbformat_minor": 0,
  "metadata": {
    "colab": {
      "provenance": []
    },
    "kernelspec": {
      "name": "python3",
      "display_name": "Python 3"
    },
    "language_info": {
      "name": "python"
    }
  },
  "cells": [
    {
      "cell_type": "markdown",
      "source": [
        "# APPM 4600 Homework 11\n",
        "## Kevin Stull\n",
        "### Problem 1\n",
        "\n",
        "2) cont.)"
      ],
      "metadata": {
        "id": "qrwYffRVlYIL"
      }
    },
    {
      "cell_type": "code",
      "execution_count": 3,
      "metadata": {
        "colab": {
          "base_uri": "https://localhost:8080/"
        },
        "id": "4CuExcCilRZ2",
        "outputId": "ac57da21-a428-4a5f-ca91-76b186e234a0"
      },
      "outputs": [
        {
          "output_type": "stream",
          "name": "stdout",
          "text": [
            "I_simp=  -0.02673976175994004\n"
          ]
        }
      ],
      "source": [
        "# citation: code from canvas\n",
        "import matplotlib.pyplot as plt\n",
        "import numpy as np\n",
        "import math\n",
        "from numpy.linalg import inv\n",
        "from numpy.linalg import norm\n",
        "\n",
        "def driver():\n",
        "    f = lambda x: -1*x*np.cos(1/x)\n",
        "    a = 1E-16\n",
        "    b = 1\n",
        "    n = 5\n",
        "    I_simp = CompSimp(a,b,n,f)\n",
        "    print('I_simp= ', I_simp)\n",
        "\n",
        "def CompSimp(a,b,n,f):\n",
        "    h = (b-a)/n\n",
        "    xnode = a+np.arange(0,n+1)*h\n",
        "    I_simp = f(xnode[0])\n",
        "    nhalf = n/2\n",
        "    for j in range(1,int(nhalf)+1):\n",
        "         # even part\n",
        "         I_simp = I_simp+2*f(xnode[2*j])\n",
        "         # odd part\n",
        "         I_simp = I_simp +4*f(xnode[2*j-1])\n",
        "    I_simp= I_simp + f(xnode[n])\n",
        "    I_simp = h/3*I_simp\n",
        "    return I_simp\n",
        "\n",
        "driver()"
      ]
    },
    {
      "cell_type": "code",
      "source": [],
      "metadata": {
        "id": "XsFOZX6PrRDO"
      },
      "execution_count": null,
      "outputs": []
    }
  ]
}