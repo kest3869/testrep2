{
  "nbformat": 4,
  "nbformat_minor": 0,
  "metadata": {
    "colab": {
      "provenance": []
    },
    "kernelspec": {
      "name": "python3",
      "display_name": "Python 3"
    },
    "language_info": {
      "name": "python"
    }
  },
  "cells": [
    {
      "cell_type": "markdown",
      "source": [
        "# APPM 4600 Homework 4\n",
        "## Kevin Stull\n",
        "### Problem 1"
      ],
      "metadata": {
        "id": "NfyYRfwQdKjj"
      }
    },
    {
      "cell_type": "code",
      "execution_count": null,
      "metadata": {
        "colab": {
          "base_uri": "https://localhost:8080/",
          "height": 472
        },
        "id": "6DJAMTy6dD5S",
        "outputId": "b5c4633b-d5b5-4102-d280-c76f9c9ff2d9"
      },
      "outputs": [
        {
          "output_type": "display_data",
          "data": {
            "text/plain": [
              "<Figure size 640x480 with 1 Axes>"
            ],
            "image/png": "[encoded data removed]"
          },
          "metadata": {}
        }
      ],
      "source": [
        "# libraries\n",
        "import numpy as np\n",
        "import scipy.special as sp\n",
        "import matplotlib.pyplot as plt\n",
        "\n",
        "# parameters\n",
        "T_i = 20\n",
        "T_s = -15\n",
        "tol = 1E-13\n",
        "t = 5.184E6\n",
        "alpha = 0.138E-6 # this was not given in problem statement\n",
        "x_arr = np.linspace(0,15, 500)\n",
        "y_arr = np.zeros(len(x_arr))\n",
        "\n",
        "# calculating y_arr\n",
        "for i in range(len(x_arr)):\n",
        "  y_arr[i] = sp.erf(x_arr[i]/(2*(alpha*t)**0.5))*(T_i - T_s) + T_s\n",
        "\n",
        "# plotting y_arr\n",
        "plt.plot(x_arr, y_arr)\n",
        "plt.xlabel('Depth of pipe (m)')\n",
        "plt.ylabel('Temperature of pipe (C)')\n",
        "plt.title(\"Temperature of pipe at varying depth after 60 days\")\n",
        "plt.show()"
      ]
    },
    {
      "cell_type": "markdown",
      "source": [
        "a) From this graph we can see that the pipe needs to be about 6 meters deep or deeper in order to meet the desired specifications.\n",
        "\n"
      ],
      "metadata": {
        "id": "ChiTIXHTlAGK"
      }
    },
    {
      "cell_type": "code",
      "source": [
        "# bisection root finder\n",
        "def bisection(f,a,b,tol):\n",
        "\n",
        "#    Inputs:\n",
        "#     f,a,b       - function and endpoints of initial interval\n",
        "#      tol  - bisection stops when interval length < tol\n",
        "\n",
        "#    Returns:\n",
        "#      astar - approximation of root\n",
        "#      ier   - error message\n",
        "#            - ier = 1 => Failed\n",
        "#            - ier = 0 == success\n",
        "\n",
        "#     first verify there is a root we can find in the interval\n",
        "\n",
        "    fa = f(a)\n",
        "    fb = f(b);\n",
        "    if (fa*fb>0):\n",
        "       ier = 1\n",
        "       astar = a\n",
        "       return [astar, ier]\n",
        "\n",
        "#   verify end points are not a root\n",
        "    if (fa == 0):\n",
        "      astar = a\n",
        "      ier =0\n",
        "      return [astar, ier]\n",
        "\n",
        "    if (fb ==0):\n",
        "      astar = b\n",
        "      ier = 0\n",
        "      return [astar, ier]\n",
        "\n",
        "    count = 0\n",
        "    d = 0.5*(a+b)\n",
        "    while (abs(d-a)> tol):\n",
        "      fd = f(d)\n",
        "      if (fd ==0):\n",
        "        astar = d\n",
        "        ier = 0\n",
        "        return [astar, ier]\n",
        "      if (fa*fd<0):\n",
        "         b = d\n",
        "      else:\n",
        "        a = d\n",
        "        fa = fd\n",
        "      d = 0.5*(a+b)\n",
        "      count = count +1\n",
        "    astar = d\n",
        "    ier = 0\n",
        "    return [astar, ier]\n",
        "\n",
        "def newton(f,fp,p0,tol,Nmax):\n",
        "  \"\"\"\n",
        "  Newton iteration.\n",
        "\n",
        "  Inputs:\n",
        "    f,fp - function and derivative\n",
        "    p0   - initial guess for root\n",
        "    tol  - iteration stops when p_n,p_{n+1} are within tol\n",
        "    Nmax - max number of iterations\n",
        "  Returns:\n",
        "    p     - an array of the iterates\n",
        "    pstar - the last iterate\n",
        "    info  - success message\n",
        "          - 0 if we met tol\n",
        "          - 1 if we hit Nmax iterations (fail)\n",
        "\n",
        "  \"\"\"\n",
        "  p = np.zeros(Nmax+1);\n",
        "  p[0] = p0\n",
        "  for it in range(Nmax):\n",
        "      p1 = p0-f(p0)/fp(p0)\n",
        "      p[it+1] = p1\n",
        "      if (abs(p1-p0) < tol):\n",
        "          pstar = p1\n",
        "          info = 0\n",
        "          return [p,pstar,info,it]\n",
        "      p0 = p1\n",
        "  pstar = p1\n",
        "  info = 1\n",
        "  return [p,pstar,info,it]"
      ],
      "metadata": {
        "id": "DRfP7g4MlcaU"
      },
      "execution_count": null,
      "outputs": []
    },
    {
      "cell_type": "code",
      "source": [
        "# libraries\n",
        "import numpy as np\n",
        "import scipy.special as sp\n",
        "import matplotlib.pyplot as plt\n",
        "\n",
        "# parameters\n",
        "T_i = 20\n",
        "T_s = -15\n",
        "tol = 1E-13\n",
        "t = 5.184E6\n",
        "alpha = 0.138E-6 # this was not given in problem statement\n",
        "x_arr = np.linspace(0,15, 500)\n",
        "y_arr = np.zeros(len(x_arr))\n",
        "\n",
        "# calculating y_arr\n",
        "for i in range(len(x_arr)):\n",
        "  y_arr[i] = sp.erf(x_arr[i]/(2*(alpha*t)**0.5))*(T_i - T_s) + T_s\n",
        "\n",
        "# finding the root\n",
        "f = lambda x: sp.erf(x/(2*(alpha*t)**0.5))*(T_i - T_s) + T_s\n",
        "a = 0\n",
        "b = 14\n",
        "\n",
        "[astar,ier] = bisection(f,a,b,tol)\n",
        "print('the approximate root is',astar)\n",
        "print('the error message reads:',ier)\n",
        "print('f(astar) =', f(astar))"
      ],
      "metadata": {
        "colab": {
          "base_uri": "https://localhost:8080/"
        },
        "id": "WYiv4uLNiTms",
        "outputId": "e6224311-44f3-4335-a783-5f24c80bce9c"
      },
      "execution_count": null,
      "outputs": [
        {
          "output_type": "stream",
          "name": "stdout",
          "text": [
            "the approximate root is 0.6769618544818599\n",
            "the error message reads: 0\n",
            "f(astar) = -1.5258905250448151e-12\n"
          ]
        }
      ]
    },
    {
      "cell_type": "markdown",
      "source": [
        "b) Confirming our intuition from the plot, the root is approximately 5.76. So A depth of 6m is a pretty good guideline."
      ],
      "metadata": {
        "id": "EI_MceQamYRE"
      }
    },
    {
      "cell_type": "code",
      "source": [
        "# libraries\n",
        "import numpy as np\n",
        "import scipy.special as sp\n",
        "import matplotlib.pyplot as plt\n",
        "\n",
        "# parameters\n",
        "T_i = 20\n",
        "T_s = -15\n",
        "tol = 1E-13\n",
        "t = 5.184E6\n",
        "alpha = 0.138E-6 # this was not given in problem statement\n",
        "x_arr = np.linspace(0,15, 500)\n",
        "y_arr = np.zeros(len(x_arr))\n",
        "\n",
        "# calculating y_arr\n",
        "for i in range(len(x_arr)):\n",
        "  y_arr[i] = sp.erf(x_arr[i]/(2*(alpha*t)**0.5))*(T_i - T_s) + T_s\n",
        "\n",
        "# finding the root\n",
        "f = lambda x: sp.erf(x/(2*(alpha*t)**0.5))*(T_i - T_s) + T_s\n",
        "fp = lambda x: (2/(np.pi)**0.5) * np.exp(-1*(x/(2*(alpha*t)**0.5)**2))*(T_i - T_s)\n",
        "p0 = 0.6769618544818599\n",
        "Nmax = 1000\n",
        "(p,pstar,info,it) = newton(f,fp,p0,tol, Nmax)\n",
        "print('the approximate root is', '%16.16e' % pstar)\n",
        "print('the error message reads:', '%d' % info)\n",
        "print('Number of iterations:', '%d' % it)"
      ],
      "metadata": {
        "colab": {
          "base_uri": "https://localhost:8080/"
        },
        "id": "xzNXWM0ymL7p",
        "outputId": "ccc267ce-1e4f-4ec7-b679-a1c06fb829fe"
      },
      "execution_count": null,
      "outputs": [
        {
          "output_type": "stream",
          "name": "stdout",
          "text": [
            "the approximate root is 6.7696185448190882e-01\n",
            "the error message reads: 0\n",
            "Number of iterations: 0\n"
          ]
        }
      ]
    },
    {
      "cell_type": "markdown",
      "source": [
        "c) Once again we were able to find the root and it is in the same location. Notably, if we set $x_0 = \\bar{x}$ then it converges in 0 iterations."
      ],
      "metadata": {
        "id": "X_E02oDspx9G"
      }
    },
    {
      "cell_type": "markdown",
      "source": [
        "### Problem 4\n"
      ],
      "metadata": {
        "id": "r4oGMpjuKln0"
      }
    },
    {
      "cell_type": "code",
      "source": [
        "# libraries\n",
        "import numpy as np\n",
        "\n",
        "# function of x\n",
        "f = lambda x: np.exp(3*x)-27*x**6+(27*x**4)*(np.exp(x))-(9*x**2)*(np.exp(2*x))\n",
        "\n",
        "# derivative of f\n",
        "fp = lambda x: 3*(np.exp(x)-6*x)*(np.exp(x)-3*x**2)**2\n",
        "\n",
        "# function for f/fp\n",
        "f_fp = lambda x: f(x) / fp(x)\n",
        "\n",
        "# function for derivative of f/fp\n",
        "f_fpp = lambda x: (6*x**2 + np.exp(x)*(x**2 -4*x + 2)) / (np.exp(x) - 6*x**2)**2\n",
        "\n",
        "# method from 2c\n",
        "g = lambda x: x - 2*f_fp(x)\n",
        "\n",
        "# derivative of method from 2c\n",
        "gp = lambda x: 1 - 2*f_fpp(x)\n",
        "\n",
        "# newton's method of root finding\n",
        "def newton(f,fp,p0,tol,Nmax):\n",
        "  p = np.zeros(Nmax+1);\n",
        "  p[0] = p0\n",
        "  for it in range(Nmax):\n",
        "      p1 = p0-f(p0)/fp(p0)\n",
        "      p[it+1] = p1\n",
        "      if (abs(p1-p0) < tol):\n",
        "          pstar = p1\n",
        "          info = 0\n",
        "          return [p,pstar,info,it]\n",
        "      p0 = p1\n",
        "  pstar = p1\n",
        "  info = 1\n",
        "  return [p,pstar,info,it]\n",
        "\n",
        "# parameters\n",
        "a = 3\n",
        "b = 5\n",
        "tol = 1E-13\n",
        "# ground_truth_root = 3.7330790286328142006\n",
        "Nmax = 1000\n",
        "\n",
        "# calculating output of Newton's method\n",
        "p1, pstar1, info1, it1 = newton(f, fp, a, tol, Nmax)\n",
        "print('root:',pstar1, 'error code:',info1,'number of iterations:', it1)\n",
        "\n",
        "# calculating the output of the method from class\n",
        "#p2, pstar2, info2, it2 = newton(f_fp, f_fpp, a, tol, Nmax)\n",
        "#print(pstar2, info2, it2)\n",
        "print('2nd method overflows and does not converge.')\n",
        "\n",
        "# calculating the output of method from 2c\n",
        "p3, pstar3, info3, it3 = newton(g, gp, a, tol, Nmax)\n",
        "print('root:', pstar3, 'error code:',info3, 'number of iterations:', it3)\n"
      ],
      "metadata": {
        "id": "0OJFOUu_oyel",
        "colab": {
          "base_uri": "https://localhost:8080/"
        },
        "outputId": "0da6be64-9813-4d1c-dcb6-8c9a0a0b528a"
      },
      "execution_count": null,
      "outputs": [
        {
          "output_type": "stream",
          "name": "stdout",
          "text": [
            "root: 3.733095667492544 error code: 0 number of iterations: 27\n",
            "2nd method overflows and does not converge.\n",
            "root: -0.3431313688576811 error code: 1 number of iterations: 999\n"
          ]
        }
      ]
    },
    {
      "cell_type": "markdown",
      "source": [
        "I prefer the 1st method because it converges for me.\n",
        "\n",
        "### Problem 5"
      ],
      "metadata": {
        "id": "ngW_l9iXWDXu"
      }
    },
    {
      "cell_type": "code",
      "source": [
        "# libraries\n",
        "import numpy as np\n",
        "import matplotlib.pyplot as plt\n",
        "\n",
        "# function and its derivative\n",
        "f = lambda x: x**6 - x - 1\n",
        "fp = lambda x: 6*x**5 - 1\n",
        "\n",
        "# Newton's method\n",
        "def newton(f,fp,p0,tol,Nmax):\n",
        "  p = np.zeros(Nmax+1);\n",
        "  p[0] = p0\n",
        "  for it in range(Nmax):\n",
        "      p1 = p0-f(p0)/fp(p0)\n",
        "      p[it+1] = p1\n",
        "      if (abs(p1-p0) < tol):\n",
        "          pstar = p1\n",
        "          info = 0\n",
        "          return [p,pstar,info,it]\n",
        "      p0 = p1\n",
        "  pstar = p1\n",
        "  info = 1\n",
        "  return [p,pstar,info,it]\n",
        "\n",
        "# Secant method\n",
        "def secant(p0, p1, f, tol, Nmax):\n",
        "  ier = -1\n",
        "  pstar = float()\n",
        "  p = np.zeros(Nmax)\n",
        "\n",
        "  if abs(f(p0)) < tol:\n",
        "    p[0] = p0\n",
        "    pstar = p0\n",
        "    ier = 0\n",
        "    return p, pstar, ier , 0\n",
        "  elif abs(f(p1)) < tol:\n",
        "    p[0] = p1\n",
        "    pstar = p1\n",
        "    ier = 0\n",
        "    return p, pstar, ier , 0\n",
        "  p[0] = p1\n",
        "  for i in range(1, Nmax):\n",
        "    if abs(f(p0) - f(p1)) == 0:\n",
        "      ier = 1\n",
        "      pstar = p1\n",
        "      #print(\"Dividing by 0 is bad!\")\n",
        "      return p, pstar, ier, i\n",
        "    p2 = p1 - (f(p1)*(p1 - p0))/(f(p1) - f(p0))\n",
        "    p[i] = p2\n",
        "    if abs(p2-p1) < tol:\n",
        "      pstar = p2\n",
        "      ier = 0\n",
        "      return p, pstar, ier, i\n",
        "    p0 = p1\n",
        "    p1 = p2\n",
        "  #print('Reached Nmax iteration without converging!')\n",
        "  return p, pstar, 1, i\n",
        "\n",
        "# parameters\n",
        "x_0 = 2\n",
        "x_1 = 1\n",
        "tol = 1E-13\n",
        "Nmax = 100\n",
        "\n",
        "# using Newton's method\n",
        "guesses_newton, root, error, iter = newton(f, fp, x_0, tol, Nmax)\n",
        "print('Newton\\'s method: root:', root,'Number of iterations:', iter)\n",
        "\n",
        "# using secant method\n",
        "guesses_secant, root, error, iter = secant(x_0, x_1, f, tol, Nmax)\n",
        "print('Secant method: root:', root,'Number of iterations:', iter)\n",
        "print()\n",
        "\n",
        "# Use the true root to compute error by iteration\n",
        "root = 1.1347241384015194\n",
        "error_newton = []\n",
        "error_secant = []\n",
        "for i in range(Nmax):\n",
        "  if guesses_newton[i] != 0:\n",
        "    error_newton.append(abs(guesses_newton[i] - root))\n",
        "  if guesses_secant[i] != 0:\n",
        "    error_secant.append(abs(guesses_secant[i] - root))\n",
        "error_newton = np.array(error_newton)\n",
        "error_secant = np.array(error_secant)\n",
        "\n",
        "# dispaying a table of the error\n",
        "error_table = np.zeros([10, 2])\n",
        "for i in range(10):\n",
        "  error_table[i][0] = error_newton[i]\n",
        "  error_table[i][1] = error_secant[i]\n",
        "print(\"         Newton : Secant\")\n",
        "print(error_table)\n",
        "print()\n",
        "xkn, xkn1, xks, xks1 = np.zeros(10), np.zeros(10), np.zeros(10), np.zeros(10)\n",
        "# generating log-log plot\n",
        "for i in range(9):\n",
        "  xkn[i] = abs(guesses_newton[i] - root)\n",
        "  xkn1[i] = abs(guesses_newton[i+1] - root)\n",
        "  xks[i] = abs(guesses_secant[i] - root)\n",
        "  xks1[i] = abs(guesses_secant[i+1] - root)\n",
        "plt.loglog(xkn1, xkn,label='Newton')\n",
        "plt.loglog(xks1, xks, label='Secant')\n",
        "plt.xlabel('x_kn+1')\n",
        "plt.ylabel('x_kn')\n",
        "plt.title('Loglog plot of x_kn+1 vs x_kn')\n",
        "plt.legend()\n",
        "plt.show()\n"
      ],
      "metadata": {
        "id": "JHvLQAgNMFch",
        "colab": {
          "base_uri": "https://localhost:8080/",
          "height": 736
        },
        "outputId": "524054d1-bfff-43e8-9527-9ebd398eb188"
      },
      "execution_count": null,
      "outputs": [
        {
          "output_type": "stream",
          "name": "stdout",
          "text": [
            "Newton's method: root: 1.1347241384015194 Number of iterations: 8\n",
            "Secant method: root: 1.1347241384015194 Number of iterations: 9\n",
            "\n",
            "         Newton : Secant\n",
            "[[8.65275862e-01 1.34724138e-01]\n",
            " [5.45904134e-01 1.18595106e-01]\n",
            " [2.96014850e-01 5.58536303e-02]\n",
            " [1.20246818e-01 1.70683075e-02]\n",
            " [2.68142944e-02 2.19258819e-03]\n",
            " [1.62913577e-03 9.26696033e-05]\n",
            " [6.38994211e-06 4.92452815e-07]\n",
            " [9.87017135e-11 1.10303544e-10]\n",
            " [0.00000000e+00 2.22044605e-16]\n",
            " [0.00000000e+00 0.00000000e+00]]\n",
            "\n"
          ]
        },
        {
          "output_type": "display_data",
          "data": {
            "text/plain": [
              "<Figure size 640x480 with 1 Axes>"
            ],
            "image/png": "[encoded data removed]"
          },
          "metadata": {}
        }
      ]
    },
    {
      "cell_type": "markdown",
      "source": [
        "a) The convergence of Newton seems to be slower at first then quicker later on where the error in secant seems to steadily decrease.\n",
        "\n",
        "b) the slopes of both appear to be the same in the second half of the graph but the slope for Newton's method is not constant. It would appear that Newton's method is higher order convergent (quadratic) so it is converging faster and non-linearly."
      ],
      "metadata": {
        "id": "ao0fNo_wDMpi"
      }
    },
    {
      "cell_type": "code",
      "source": [],
      "metadata": {
        "id": "UZKHs-hz8_EC"
      },
      "execution_count": null,
      "outputs": []
    },
    {
      "cell_type": "code",
      "source": [],
      "metadata": {
        "id": "5R-QCoTg6gou"
      },
      "execution_count": null,
      "outputs": []
    }
  ]
}