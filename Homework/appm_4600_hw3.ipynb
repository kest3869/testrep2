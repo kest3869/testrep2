{
  "nbformat": 4,
  "nbformat_minor": 0,
  "metadata": {
    "colab": {
      "provenance": []
    },
    "kernelspec": {
      "name": "python3",
      "display_name": "Python 3"
    },
    "language_info": {
      "name": "python"
    }
  },
  "cells": [
    {
      "cell_type": "markdown",
      "source": [
        "# APPM 4600 Hw. 3\n",
        "## Kevin Stull\n",
        "### Problem 1:\n",
        "c) The approximate location of the root is x = 0.88786221"
      ],
      "metadata": {
        "id": "_ECQrMjTI6iA"
      }
    },
    {
      "cell_type": "code",
      "source": [
        "# CITATION: CODE FROM LECTURE FOR APPM 4600\n",
        "\n",
        "# import libraries\n",
        "import numpy as np\n",
        "\n",
        "def driver():\n",
        "\n",
        "# use routines\n",
        "    f = lambda x: 2*x - 1 - np.sin(x)\n",
        "    a = -2*np.pi\n",
        "    b = 2*np.pi\n",
        "\n",
        "    tol = 1E-9\n",
        "\n",
        "    [astar,ier] = bisection(f,a,b,tol)\n",
        "    print('the approximate root is',astar)\n",
        "    print('the error message reads:',ier)\n",
        "    print('f(astar) =', f(astar))\n",
        "\n",
        "\n",
        "\n",
        "\n",
        "# define routines\n",
        "def bisection(f,a,b,tol):\n",
        "\n",
        "#    Inputs:\n",
        "#     f,a,b       - function and endpoints of initial interval\n",
        "#      tol  - bisection stops when interval length < tol\n",
        "\n",
        "#    Returns:\n",
        "#      astar - approximation of root\n",
        "#      ier   - error message\n",
        "#            - ier = 1 => Failed\n",
        "#            - ier = 0 == success\n",
        "\n",
        "#     first verify there is a root we can find in the interval\n",
        "\n",
        "    fa = f(a)\n",
        "    fb = f(b);\n",
        "    if (fa*fb>0):\n",
        "       ier = 1\n",
        "       astar = a\n",
        "       return [astar, ier]\n",
        "\n",
        "#   verify end points are not a root\n",
        "    if (fa == 0):\n",
        "      astar = a\n",
        "      ier =0\n",
        "      return [astar, ier]\n",
        "\n",
        "    if (fb ==0):\n",
        "      astar = b\n",
        "      ier = 0\n",
        "      return [astar, ier]\n",
        "\n",
        "    count = 0\n",
        "    d = 0.5*(a+b)\n",
        "    while (abs(d-a)> tol):\n",
        "      fd = f(d)\n",
        "      if (fd ==0):\n",
        "        astar = d\n",
        "        ier = 0\n",
        "        return [astar, ier]\n",
        "      if (fa*fd<0):\n",
        "         b = d\n",
        "      else:\n",
        "        a = d\n",
        "        fa = fd\n",
        "      d = 0.5*(a+b)\n",
        "      count = count +1\n",
        "      print(count)\n",
        "#      print('abs(d-a) = ', abs(d-a))\n",
        "\n",
        "    astar = d\n",
        "    ier = 0\n",
        "    return [astar, ier]\n",
        "\n",
        "driver()\n",
        "\n"
      ],
      "metadata": {
        "colab": {
          "base_uri": "https://localhost:8080/"
        },
        "id": "J8QfnM2VI6SG",
        "outputId": "45173145-407b-488d-e562-23e94535eb53"
      },
      "execution_count": null,
      "outputs": [
        {
          "output_type": "stream",
          "name": "stdout",
          "text": [
            "1\n",
            "2\n",
            "3\n",
            "4\n",
            "5\n",
            "6\n",
            "7\n",
            "8\n",
            "9\n",
            "10\n",
            "11\n",
            "12\n",
            "13\n",
            "14\n",
            "15\n",
            "16\n",
            "17\n",
            "18\n",
            "19\n",
            "20\n",
            "21\n",
            "22\n",
            "23\n",
            "24\n",
            "25\n",
            "26\n",
            "27\n",
            "28\n",
            "29\n",
            "30\n",
            "31\n",
            "32\n",
            "33\n",
            "the approximate root is 0.8878622118249178\n",
            "the error message reads: 0\n",
            "f(astar) = 3.4777858370915737e-10\n"
          ]
        }
      ]
    },
    {
      "cell_type": "markdown",
      "source": [
        "### Problem 2\n",
        "a)"
      ],
      "metadata": {
        "id": "QIyswRKXKpcs"
      }
    },
    {
      "cell_type": "code",
      "execution_count": null,
      "metadata": {
        "colab": {
          "base_uri": "https://localhost:8080/"
        },
        "id": "1Uag-djoI0F8",
        "outputId": "6ea9f866-e82e-4d11-d513-e7c65b1a5f19"
      },
      "outputs": [
        {
          "output_type": "stream",
          "name": "stdout",
          "text": [
            "the approximate root is 5.000073242187501\n",
            "the error message reads: 0\n",
            "f(astar) = 6.065292655789404e-38\n"
          ]
        }
      ],
      "source": [
        "# CITATION: CODE FROM LECTURE FOR APPM 4600\n",
        "\n",
        "# import libraries\n",
        "import numpy as np\n",
        "\n",
        "def driver():\n",
        "\n",
        "# use routines\n",
        "    f = lambda x: (x-5)**9\n",
        "    a = 4.82\n",
        "    b = 5.2\n",
        "\n",
        "    tol = 1E-4\n",
        "\n",
        "    [astar,ier] = bisection(f,a,b,tol)\n",
        "    print('the approximate root is',astar)\n",
        "    print('the error message reads:',ier)\n",
        "    print('f(astar) =', f(astar))\n",
        "\n",
        "driver()\n",
        "\n"
      ]
    },
    {
      "cell_type": "markdown",
      "source": [
        "### problem 2\n",
        "b)"
      ],
      "metadata": {
        "id": "qZROg4UeReUx"
      }
    },
    {
      "cell_type": "code",
      "source": [
        "# CITATION: CODE FROM LECTURE FOR APPM 4600\n",
        "\n",
        "# import libraries\n",
        "import numpy as np\n",
        "\n",
        "def driver():\n",
        "\n",
        "# use routines\n",
        "    f = lambda x: x**9 - 45*x**8 + 900*x**7 - 10500*x**6 + 78750*x**5 \\\n",
        "    - 393750*x**4 + 1312500*x**3 - 2812500*x**2 + 3515625*x - 1953125\n",
        "    a = 4.82\n",
        "    b = 5.2\n",
        "\n",
        "    tol = 1E-4\n",
        "\n",
        "    [astar,ier] = bisection(f,a,b,tol)\n",
        "    print('the approximate root is',astar)\n",
        "    print('the error message reads:',ier)\n",
        "    print('f(astar) =', f(astar))\n",
        "\n",
        "driver()\n"
      ],
      "metadata": {
        "colab": {
          "base_uri": "https://localhost:8080/"
        },
        "id": "YiV2ENqrLk9k",
        "outputId": "3793ac73-14a4-4c63-a2d8-6e9d586949cc"
      },
      "execution_count": null,
      "outputs": [
        {
          "output_type": "stream",
          "name": "stdout",
          "text": [
            "the approximate root is 5.12875\n",
            "the error message reads: 0\n",
            "f(astar) = 0.0\n"
          ]
        }
      ]
    },
    {
      "cell_type": "markdown",
      "source": [
        "### Problem 2\n",
        "c) What is happening is a classic case of catastrophic loss of precision due to subtraction in our expression."
      ],
      "metadata": {
        "id": "VNTyNhZDTBz_"
      }
    },
    {
      "cell_type": "code",
      "source": [
        "# CITATION: CODE FROM LECTURE FOR APPM 4600\n",
        "\n",
        "# import libraries\n",
        "import numpy as np\n",
        "\n",
        "def driver():\n",
        "\n",
        "# use routines\n",
        "    f = lambda x: x**9 - 45*x**8 + 900*x**7 - 10500*x**6 + 78750*x**5 \\\n",
        "    - 393750*x**4 + 1312500*x**3 - 2812500*x**2 + 3515625*x - 1953125\n",
        "    a = 4.82\n",
        "    b = 5.2\n",
        "\n",
        "    tol = 1E-4\n",
        "\n",
        "    [astar,ier] = bisection(f,a,b,tol)\n",
        "    print('the approximate root is',astar)\n",
        "    print('the error message reads:',ier)\n",
        "    print('f(astar) =', f(astar))\n",
        "\n",
        "driver()"
      ],
      "metadata": {
        "colab": {
          "base_uri": "https://localhost:8080/"
        },
        "id": "wINmkf7dRin_",
        "outputId": "abc2530c-a467-46a8-ad99-f91eb8620bb0"
      },
      "execution_count": null,
      "outputs": [
        {
          "output_type": "stream",
          "name": "stdout",
          "text": [
            "the approximate root is 5.12875\n",
            "the error message reads: 0\n",
            "f(astar) = 0.0\n"
          ]
        }
      ]
    },
    {
      "cell_type": "markdown",
      "source": [
        "### Problem 3\n",
        "b) It found the root on the 12th split. Which is the integer solution above the n that we solved for using the theorem."
      ],
      "metadata": {
        "id": "X-Dy40-EZ0De"
      }
    },
    {
      "cell_type": "code",
      "source": [
        "# CITATION: CODE FROM LECTURE FOR APPM 4600\n",
        "\n",
        "# We modify bisection code to print the number of iterations to find root\n",
        "# define routines\n",
        "def bisection(f,a,b,tol):\n",
        "\n",
        "#    Inputs:\n",
        "#     f,a,b       - function and endpoints of initial interval\n",
        "#      tol  - bisection stops when interval length < tol\n",
        "\n",
        "#    Returns:\n",
        "#      astar - approximation of root\n",
        "#      ier   - error message\n",
        "#            - ier = 1 => Failed\n",
        "#            - ier = 0 == success\n",
        "\n",
        "#     first verify there is a root we can find in the interval\n",
        "\n",
        "    fa = f(a)\n",
        "    fb = f(b);\n",
        "    if (fa*fb>0):\n",
        "       ier = 1\n",
        "       astar = a\n",
        "       return [astar, ier]\n",
        "\n",
        "#   verify end points are not a root\n",
        "    if (fa == 0):\n",
        "      astar = a\n",
        "      ier =0\n",
        "      return [astar, ier]\n",
        "\n",
        "    if (fb ==0):\n",
        "      astar = b\n",
        "      ier = 0\n",
        "      return [astar, ier]\n",
        "\n",
        "    count = 0\n",
        "    d = 0.5*(a+b)\n",
        "    while (abs(d-a)> tol):\n",
        "      fd = f(d)\n",
        "      if (fd ==0):\n",
        "        astar = d\n",
        "        ier = 0\n",
        "        return [astar, ier]\n",
        "      if (fa*fd<0):\n",
        "         b = d\n",
        "      else:\n",
        "        a = d\n",
        "        fa = fd\n",
        "      d = 0.5*(a+b)\n",
        "      count = count +1\n",
        "\n",
        "    print('count:', count)\n",
        "    astar = d\n",
        "    ier = 0\n",
        "    return [astar, ier]\n",
        "\n",
        "# import libraries\n",
        "import numpy as np\n",
        "\n",
        "def driver():\n",
        "\n",
        "# use routines\n",
        "    f = lambda x: x**3 + x - 4\n",
        "    a = 1\n",
        "    b = 4\n",
        "\n",
        "    tol = 1E-3\n",
        "\n",
        "    [astar,ier] = bisection(f,a,b,tol)\n",
        "    print('the approximate root is',astar)\n",
        "    print('the error message reads:',ier)\n",
        "    print('f(astar) =', f(astar))\n",
        "\n",
        "driver()"
      ],
      "metadata": {
        "colab": {
          "base_uri": "https://localhost:8080/"
        },
        "id": "1oKGlYDZZyJO",
        "outputId": "b038f5f0-0d83-4c43-8b51-0ac8473b3498"
      },
      "execution_count": null,
      "outputs": [
        {
          "output_type": "stream",
          "name": "stdout",
          "text": [
            "count: 11\n",
            "the approximate root is 1.378662109375\n",
            "the error message reads: 0\n",
            "f(astar) = -0.0009021193400258198\n"
          ]
        }
      ]
    },
    {
      "cell_type": "markdown",
      "source": [
        "### Problem 5\n",
        "a) There were 5 sign changes according to this plot, so that means there are at least 5 0s. There might be a 6th by x = 7."
      ],
      "metadata": {
        "id": "Jc3tBI9hdeeY"
      }
    },
    {
      "cell_type": "code",
      "source": [
        "# libraries\n",
        "import numpy as np\n",
        "import matplotlib.pyplot as plt\n",
        "\n",
        "# define function\n",
        "foo = lambda x: x - 4*np.sin(2*x) - 3\n",
        "\n",
        "# find foo(x)\n",
        "x = np.linspace(-15, 15, 10000)\n",
        "y = foo(x)\n",
        "\n",
        "# plot results\n",
        "plt.plot(x, y)\n",
        "plt.plot(x, np.zeros(len(x)))\n",
        "plt.xlabel('x')\n",
        "plt.ylabel('y')\n",
        "plt.title('x vs foo(x)')\n",
        "plt.show()\n",
        "\n",
        "# count the number of sign changes\n",
        "count = 0\n",
        "for i in range(len(y) - 1):\n",
        "  if y[i]*y[i+1] < 0:\n",
        "    count += 1\n",
        "print(\"Number of sign changes:\", count)"
      ],
      "metadata": {
        "colab": {
          "base_uri": "https://localhost:8080/",
          "height": 489
        },
        "id": "AiXKGIEufngA",
        "outputId": "6e341719-33f1-45a7-e217-3b281c5e3453"
      },
      "execution_count": null,
      "outputs": [
        {
          "output_type": "display_data",
          "data": {
            "text/plain": [
              "<Figure size 640x480 with 1 Axes>"
            ],
            "image/png": "[encoded data removed]"
          },
          "metadata": {}
        },
        {
          "output_type": "stream",
          "name": "stdout",
          "text": [
            "Number of sign changes: 5\n"
          ]
        }
      ]
    },
    {
      "cell_type": "markdown",
      "source": [
        "b) we can find two roots this way, x = -0.5444424006835793 and x = 3.161826486548011 using different $x_o$ (5 and 0 respectively)."
      ],
      "metadata": {
        "id": "DA47D0Sqfnz9"
      }
    },
    {
      "cell_type": "code",
      "source": [
        "# CITATION: CODE FROM LECTURE FOR APPM 4600\n",
        "\n",
        "# import libraries\n",
        "import numpy as np\n",
        "\n",
        "def driver1():\n",
        "  fx = lambda x: -1*np.sin(2*x) + 1.25*x - 0.75\n",
        "  Nmax = 1E4\n",
        "  tol = 1e-11\n",
        "  x0 = 3\n",
        "  [xstar,ier] = fixedpt(fx,x0,tol,Nmax)\n",
        "  print('the approximate root is:',xstar)\n",
        "\n",
        "def driver2():\n",
        "  fx = lambda x: -1*np.sin(2*x) + 1.25*x - 0.75\n",
        "  Nmax = 1E4\n",
        "  tol = 1e-11\n",
        "  x0 = 0\n",
        "  [xstar,ier] = fixedpt(fx,x0,tol,Nmax)\n",
        "  print('the approximate root is:',xstar)\n",
        "\n",
        "\n",
        "# define routines\n",
        "def fixedpt(f,x0,tol,Nmax):\n",
        "\n",
        "    ''' x0 = initial guess'''\n",
        "    ''' Nmax = max number of iterations'''\n",
        "    ''' tol = stopping tolerance'''\n",
        "\n",
        "    count = 0\n",
        "    while (count <Nmax):\n",
        "       count = count +1\n",
        "       x1 = f(x0)\n",
        "       if (abs(x1-x0) <tol):\n",
        "          xstar = x1\n",
        "          ier = 0\n",
        "          return [xstar,ier]\n",
        "       x0 = x1\n",
        "\n",
        "    xstar = x1\n",
        "    ier = 1\n",
        "    return [xstar, ier]\n",
        "\n",
        "\n",
        "driver1()\n",
        "driver2()\n"
      ],
      "metadata": {
        "colab": {
          "base_uri": "https://localhost:8080/"
        },
        "id": "d2frPEyEaEDH",
        "outputId": "b3d5fcc8-8c3c-4983-a7e3-6dd2377220f3"
      },
      "execution_count": null,
      "outputs": [
        {
          "output_type": "stream",
          "name": "stdout",
          "text": [
            "the approximate root is: 3.161826486548011\n",
            "the approximate root is: -0.5444424006835793\n"
          ]
        }
      ]
    },
    {
      "cell_type": "code",
      "source": [],
      "metadata": {
        "id": "0fQ4IZhPfHcQ"
      },
      "execution_count": null,
      "outputs": []
    }
  ]
}