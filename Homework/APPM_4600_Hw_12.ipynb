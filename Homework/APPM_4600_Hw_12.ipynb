{
  "nbformat": 4,
  "nbformat_minor": 0,
  "metadata": {
    "colab": {
      "provenance": []
    },
    "kernelspec": {
      "name": "python3",
      "display_name": "Python 3"
    },
    "language_info": {
      "name": "python"
    }
  },
  "cells": [
    {
      "cell_type": "markdown",
      "source": [
        "# APPM 4600\n",
        "## Kevin Stull\n",
        "### Homework 12\n",
        "Problem 1)"
      ],
      "metadata": {
        "id": "mtCZgAV31qXa"
      }
    },
    {
      "cell_type": "code",
      "execution_count": null,
      "metadata": {
        "colab": {
          "base_uri": "https://localhost:8080/"
        },
        "id": "6eBHbloP1dLT",
        "outputId": "7a763271-fb02-40f7-97b7-fde3f53c944d"
      },
      "outputs": [
        {
          "output_type": "stream",
          "name": "stdout",
          "text": [
            "||Ax-b||: 4.440892098500626e-16\n"
          ]
        }
      ],
      "source": [
        "# libraries\n",
        "import numpy as np\n",
        "\n",
        "'''\n",
        "# functions\n",
        "def f1(x, y, z):\n",
        "  return 6*x + 2*y + 2*z\n",
        "\n",
        "def f2(x, y, z):\n",
        "  return 2*x + (2/3)*y - (1/3)*z\n",
        "\n",
        "def f3(x, y, z):\n",
        "  return x + 2*y - z\n",
        "'''\n",
        "\n",
        "# Parameters\n",
        "A = np.array([[6, 2, 2],\n",
        "              [2, 2/3, 1/3],\n",
        "              [1, 2, -1]])\n",
        "b = np.array([-2, 1, 0]).transpose()\n",
        "x = np.array([2.6, -3.8, -5]).transpose()\n",
        "\n",
        "print('||Ax-b||:', np.linalg.norm(A@x-b))\n"
      ]
    },
    {
      "cell_type": "markdown",
      "source": [
        "a) Because ||Ax-b|| is within machine tolerance of 0, we accept that x = $[2.6, -3.8, -5]^T$ is the solution to Ax = b."
      ],
      "metadata": {
        "id": "dQEj2N-O3JlT"
      }
    },
    {
      "cell_type": "code",
      "source": [
        "# libraries\n",
        "import numpy as np\n",
        "\n",
        "# returns a 4-digit float\n",
        "def fd(a):\n",
        "  return np.round(a, 16)\n",
        "\n",
        "# row_ech\n",
        "def row_ech(A, b, i, j):\n",
        "  const = fd(-1 * A[i,j]) / A[j,j]\n",
        "  for k in range(np.shape(A)[1]):\n",
        "    A[i,k] = fd(fd(const * A[j,k]) + A[i,k])\n",
        "  b[i] = fd(fd(b[j]*const) + b[i])\n",
        "  return A, b\n",
        "\n",
        "def back_sub(A,b):\n",
        "  # solution returned by back_sub\n",
        "  x = np.zeros([np.shape(A)[0], 1])\n",
        "\n",
        "  # back substitution\n",
        "  for i in range(len(x) - 1, -1, -1):\n",
        "    temp = 0\n",
        "    for k in range(np.shape(A)[0]):\n",
        "      temp += fd(A[i,k] * x[k])\n",
        "    x[i] = fd(fd(b[i] - temp) / A[i, i])\n",
        "  return x\n",
        "\n",
        "# Parameters\n",
        "A = np.array([[6.0, 2.0, 2.0],\n",
        "              [1.0, 2.0, -1.0],\n",
        "              [2.0, 2/3, 1/3]])\n",
        "A_original = np.copy(A)\n",
        "b = np.array([-2.0, 1.0, 0.0]).reshape(-1, 1)\n",
        "\n",
        "# first put array in row echelon form\n",
        "for i in range(np.shape(A)[0]):\n",
        "    for j in range(i):\n",
        "        A, b = row_ech(A, b, i, j)\n",
        "\n",
        "        # if there is a 0 on the diagonal move it down\n",
        "        if A[j,j] == 0:\n",
        "          temp = A[i,:]\n",
        "          A[i,:] = A[j,:]\n",
        "          A[j,:] = temp\n",
        "\n",
        "# perform back substitution to solve system\n",
        "x = back_sub(A,b)\n",
        "\n",
        "# validate solution\n",
        "print('Matrix:', A_original)\n",
        "print('Solution:', '\\n', x)\n",
        "print('||Ax-b||:', np.linalg.norm(A_original@x-b))"
      ],
      "metadata": {
        "colab": {
          "base_uri": "https://localhost:8080/"
        },
        "id": "ANRfNFEc3MOD",
        "outputId": "4c953fbe-b475-48d6-c206-4c71e4171f22"
      },
      "execution_count": null,
      "outputs": [
        {
          "output_type": "stream",
          "name": "stdout",
          "text": [
            "Matrix: [[ 6.          2.          2.        ]\n",
            " [ 1.          2.         -1.        ]\n",
            " [ 2.          0.66666667  0.33333333]]\n",
            "Solution: \n",
            " [[ 0.6]\n",
            " [-0.8]\n",
            " [-2. ]]\n",
            "||Ax-b||: 0.7453559924999298\n"
          ]
        }
      ]
    },
    {
      "cell_type": "markdown",
      "source": [
        "b)c)d) Solution is slightly off. What I have noticed from this is that if you do not use partial pivots first, then the result does not compile. This is because when it tries to row reduce the second column, you end up with a division by 0."
      ],
      "metadata": {
        "id": "UkzSjqVPkWY8"
      }
    },
    {
      "cell_type": "code",
      "source": [],
      "metadata": {
        "id": "l7PjzEPgILNV"
      },
      "execution_count": null,
      "outputs": []
    }
  ]
}